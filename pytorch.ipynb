{
  "nbformat": 4,
  "nbformat_minor": 0,
  "metadata": {
    "colab": {
      "provenance": [],
      "gpuType": "T4"
    },
    "kernelspec": {
      "name": "python3",
      "display_name": "Python 3"
    },
    "language_info": {
      "name": "python"
    },
    "accelerator": "GPU"
  },
  "cells": [
    {
      "cell_type": "markdown",
      "source": [
        "***Pytorch Kullanarak Görüntü Sınıflandırma***"
      ],
      "metadata": {
        "id": "rtnRHqLjto0B"
      }
    },
    {
      "cell_type": "markdown",
      "source": [
        "**'torch' genellikle PyTorch'un temel kütüphanesi iken, 'torchvision' görüntü işleme için kullanılan bir yardımcı kütüphanedir. Veri setlerini yüklemek ve dönüşümleri uygulamak için 'transforms' ve 'datasets' modülleri kullandım.**"
      ],
      "metadata": {
        "id": "w-ckVnNe1cOV"
      }
    },
    {
      "cell_type": "code",
      "source": [
        "import torch\n",
        "import torchvision\n",
        "from torchvision import transforms,datasets"
      ],
      "metadata": {
        "id": "TOIumZMVtxNc"
      },
      "execution_count": null,
      "outputs": []
    },
    {
      "cell_type": "markdown",
      "source": [
        "MNIST (el yazısı rakamlardan oluşuyor) veri setini indirip yüklemek için 'torchvision.datasets.MNIST' fonksiyonunu kullanıyorum.\n",
        "\n",
        "transform=transforms.Compose([transforms.ToTensor()]) ise veri setindeki görüntüleri tensörlere dönüştürmeyi sağlar. transforms.Compose ile bir dizi dönüşüm işlemi oluşturulur ve burada sadece transforms.ToTensor() kullanılarak görüntüler tensörlere çevrilir."
      ],
      "metadata": {
        "id": "JP00f9ZPAZaW"
      }
    },
    {
      "cell_type": "code",
      "source": [
        "train=datasets.MNIST(\"\",train=True,download=True,transform=transforms.Compose([transforms.ToTensor()]))\n",
        "test=datasets.MNIST(\"\",train=False,download=True,transform=transforms.Compose([transforms.ToTensor()]))"
      ],
      "metadata": {
        "colab": {
          "base_uri": "https://localhost:8080/"
        },
        "id": "wNFM3qknAZou",
        "outputId": "e08f0116-c341-491a-ab24-6ee4f991f6cb"
      },
      "execution_count": null,
      "outputs": [
        {
          "output_type": "stream",
          "name": "stdout",
          "text": [
            "Downloading http://yann.lecun.com/exdb/mnist/train-images-idx3-ubyte.gz\n",
            "Downloading http://yann.lecun.com/exdb/mnist/train-images-idx3-ubyte.gz to MNIST/raw/train-images-idx3-ubyte.gz\n"
          ]
        },
        {
          "output_type": "stream",
          "name": "stderr",
          "text": [
            "100%|██████████| 9912422/9912422 [00:00<00:00, 101372525.76it/s]\n"
          ]
        },
        {
          "output_type": "stream",
          "name": "stdout",
          "text": [
            "Extracting MNIST/raw/train-images-idx3-ubyte.gz to MNIST/raw\n",
            "\n",
            "Downloading http://yann.lecun.com/exdb/mnist/train-labels-idx1-ubyte.gz\n",
            "Downloading http://yann.lecun.com/exdb/mnist/train-labels-idx1-ubyte.gz to MNIST/raw/train-labels-idx1-ubyte.gz\n"
          ]
        },
        {
          "output_type": "stream",
          "name": "stderr",
          "text": [
            "100%|██████████| 28881/28881 [00:00<00:00, 110223561.26it/s]\n"
          ]
        },
        {
          "output_type": "stream",
          "name": "stdout",
          "text": [
            "Extracting MNIST/raw/train-labels-idx1-ubyte.gz to MNIST/raw\n",
            "\n",
            "Downloading http://yann.lecun.com/exdb/mnist/t10k-images-idx3-ubyte.gz\n",
            "Downloading http://yann.lecun.com/exdb/mnist/t10k-images-idx3-ubyte.gz to MNIST/raw/t10k-images-idx3-ubyte.gz\n"
          ]
        },
        {
          "output_type": "stream",
          "name": "stderr",
          "text": [
            "100%|██████████| 1648877/1648877 [00:00<00:00, 28608208.64it/s]\n"
          ]
        },
        {
          "output_type": "stream",
          "name": "stdout",
          "text": [
            "Extracting MNIST/raw/t10k-images-idx3-ubyte.gz to MNIST/raw\n",
            "\n",
            "Downloading http://yann.lecun.com/exdb/mnist/t10k-labels-idx1-ubyte.gz\n",
            "Downloading http://yann.lecun.com/exdb/mnist/t10k-labels-idx1-ubyte.gz to MNIST/raw/t10k-labels-idx1-ubyte.gz\n"
          ]
        },
        {
          "output_type": "stream",
          "name": "stderr",
          "text": [
            "100%|██████████| 4542/4542 [00:00<00:00, 23577387.09it/s]\n"
          ]
        },
        {
          "output_type": "stream",
          "name": "stdout",
          "text": [
            "Extracting MNIST/raw/t10k-labels-idx1-ubyte.gz to MNIST/raw\n",
            "\n"
          ]
        }
      ]
    },
    {
      "cell_type": "markdown",
      "source": [
        "PyTorch'un 'torch.utils.data.DataLoader' modülünü kullanarak train ve test veri setlerini yüklenmiş olan train ve test veri setlerinden oluşturulmuş örnekleri alır ve bunları daha kolay bir şekilde işlemek için veri yükleyicilere dönüştürür.\n",
        "\n",
        "batch_size her bir yükleme işleminde kullanılacak örnek sayısını belirtir.\n",
        "shuffle=True, veri setinin her bir yükleme işlemi öncesinde karıştırılmasını sağlar. Bu, modelin öğrenme sürecini geliştirmek için kullanılıyor."
      ],
      "metadata": {
        "id": "xWBrDG-lDzo1"
      }
    },
    {
      "cell_type": "code",
      "source": [
        "traindata=torch.utils.data.DataLoader(train,batch_size=10,shuffle=True)\n",
        "testdata=torch.utils.data.DataLoader(test,batch_size=10,shuffle=True)"
      ],
      "metadata": {
        "id": "LAyJaPPoDz30"
      },
      "execution_count": null,
      "outputs": []
    },
    {
      "cell_type": "markdown",
      "source": [
        "for döngüsü, traindata yükleyicisindeki her bir grup veriyi döngüdeki data değişkenine atar ve print ile bu grubu ekrana bastırır. Sadece ilk grubu bastırmak istediğim için break koydum. Bunu içeriği görmek ve kontrol etmek için yaptım."
      ],
      "metadata": {
        "id": "8mYUp1CbEiGR"
      }
    },
    {
      "cell_type": "code",
      "source": [
        "for data in traindata:\n",
        "  print(data)\n",
        "  break"
      ],
      "metadata": {
        "colab": {
          "base_uri": "https://localhost:8080/"
        },
        "id": "Whc3IWR3EmIU",
        "outputId": "10ede22b-fb96-4e19-9a58-773e81e07d3b"
      },
      "execution_count": null,
      "outputs": [
        {
          "output_type": "stream",
          "name": "stdout",
          "text": [
            "[tensor([[[[0., 0., 0.,  ..., 0., 0., 0.],\n",
            "          [0., 0., 0.,  ..., 0., 0., 0.],\n",
            "          [0., 0., 0.,  ..., 0., 0., 0.],\n",
            "          ...,\n",
            "          [0., 0., 0.,  ..., 0., 0., 0.],\n",
            "          [0., 0., 0.,  ..., 0., 0., 0.],\n",
            "          [0., 0., 0.,  ..., 0., 0., 0.]]],\n",
            "\n",
            "\n",
            "        [[[0., 0., 0.,  ..., 0., 0., 0.],\n",
            "          [0., 0., 0.,  ..., 0., 0., 0.],\n",
            "          [0., 0., 0.,  ..., 0., 0., 0.],\n",
            "          ...,\n",
            "          [0., 0., 0.,  ..., 0., 0., 0.],\n",
            "          [0., 0., 0.,  ..., 0., 0., 0.],\n",
            "          [0., 0., 0.,  ..., 0., 0., 0.]]],\n",
            "\n",
            "\n",
            "        [[[0., 0., 0.,  ..., 0., 0., 0.],\n",
            "          [0., 0., 0.,  ..., 0., 0., 0.],\n",
            "          [0., 0., 0.,  ..., 0., 0., 0.],\n",
            "          ...,\n",
            "          [0., 0., 0.,  ..., 0., 0., 0.],\n",
            "          [0., 0., 0.,  ..., 0., 0., 0.],\n",
            "          [0., 0., 0.,  ..., 0., 0., 0.]]],\n",
            "\n",
            "\n",
            "        ...,\n",
            "\n",
            "\n",
            "        [[[0., 0., 0.,  ..., 0., 0., 0.],\n",
            "          [0., 0., 0.,  ..., 0., 0., 0.],\n",
            "          [0., 0., 0.,  ..., 0., 0., 0.],\n",
            "          ...,\n",
            "          [0., 0., 0.,  ..., 0., 0., 0.],\n",
            "          [0., 0., 0.,  ..., 0., 0., 0.],\n",
            "          [0., 0., 0.,  ..., 0., 0., 0.]]],\n",
            "\n",
            "\n",
            "        [[[0., 0., 0.,  ..., 0., 0., 0.],\n",
            "          [0., 0., 0.,  ..., 0., 0., 0.],\n",
            "          [0., 0., 0.,  ..., 0., 0., 0.],\n",
            "          ...,\n",
            "          [0., 0., 0.,  ..., 0., 0., 0.],\n",
            "          [0., 0., 0.,  ..., 0., 0., 0.],\n",
            "          [0., 0., 0.,  ..., 0., 0., 0.]]],\n",
            "\n",
            "\n",
            "        [[[0., 0., 0.,  ..., 0., 0., 0.],\n",
            "          [0., 0., 0.,  ..., 0., 0., 0.],\n",
            "          [0., 0., 0.,  ..., 0., 0., 0.],\n",
            "          ...,\n",
            "          [0., 0., 0.,  ..., 0., 0., 0.],\n",
            "          [0., 0., 0.,  ..., 0., 0., 0.],\n",
            "          [0., 0., 0.,  ..., 0., 0., 0.]]]]), tensor([5, 6, 8, 1, 9, 2, 6, 3, 3, 4])]\n"
          ]
        }
      ]
    },
    {
      "cell_type": "markdown",
      "source": [
        "Burada, data adlı bir grup veri içinden x ve y adında örnek veri öğelerini seçip bu öğelerin içeriğini ve şeklini kontrol ediyoruz. '.shape' ile tensörün boyutunu göstermek istedim."
      ],
      "metadata": {
        "id": "eO1TjPdSFK3Q"
      }
    },
    {
      "cell_type": "code",
      "source": [
        "x,y=data[0][0], data[1][0]\n",
        "print(y)\n",
        "print(data[0][0].shape)"
      ],
      "metadata": {
        "colab": {
          "base_uri": "https://localhost:8080/"
        },
        "id": "6EwH3Id8FLB5",
        "outputId": "a7d5c440-14fc-455f-ed2e-5583835d3d45"
      },
      "execution_count": null,
      "outputs": [
        {
          "output_type": "stream",
          "name": "stdout",
          "text": [
            "tensor(5)\n",
            "torch.Size([1, 28, 28])\n"
          ]
        }
      ]
    },
    {
      "cell_type": "markdown",
      "source": [
        "Burada 'matplotlib.pyplot' kütüphanesini görüntüyü görselleştirmek için kullandım. 'imshow' fonksiyonu, bir görüntüyü ekrana çizmek için kullanılırken, 'plt.show()' ise çizilen görüntünün gösterilmesini sağlar. '.view(28, 28)' metodu, tensörün boyutunu piksel olarak şekillendiriyor."
      ],
      "metadata": {
        "id": "RpqOTv9PFwqJ"
      }
    },
    {
      "cell_type": "code",
      "source": [
        "import matplotlib.pyplot as plt\n",
        "plt.imshow(data[0][0].view(28,28))# 28 X 28 image\n",
        "plt.show()"
      ],
      "metadata": {
        "colab": {
          "base_uri": "https://localhost:8080/",
          "height": 430
        },
        "id": "igN4cZnTFo1i",
        "outputId": "b7c7bc4f-5fad-48fb-a5c1-397ac9e367f6"
      },
      "execution_count": null,
      "outputs": [
        {
          "output_type": "display_data",
          "data": {
            "text/plain": [
              "<Figure size 640x480 with 1 Axes>"
            ],
            "image/png": "[encoded data removed]"
          },
          "metadata": {}
        }
      ]
    },
    {
      "cell_type": "markdown",
      "source": [
        "'torch.nn' modülü, neural network katmanlarını, aktivasyon fonksiyonlarını ve diğer neural network bileşenlerini içeren bir pakettir.\n",
        "'torch.nn.functional' ise PyTorch'un işlevsel araçlarını içeren bir modüldür."
      ],
      "metadata": {
        "id": "7IxHOO2AGSqO"
      }
    },
    {
      "cell_type": "code",
      "source": [
        "import torch.nn as nn\n",
        "import torch.nn.functional as F"
      ],
      "metadata": {
        "id": "mqGQV0eIGOJP"
      },
      "execution_count": null,
      "outputs": []
    },
    {
      "cell_type": "markdown",
      "source": [
        "Burada bir neural network modeli oluşturuyorum. '__init__' metodu içerisinde fully connected (nn.Linear) olacak şekilde fc1'den fc4'e kadar 4 katman oluşturuyorum. 'forward' methodu veriyi katmanlardan geçirip çıktı üreticektir. Aktivasyon fonksiyonu olarak ReLu kullanıyorum."
      ],
      "metadata": {
        "id": "SJaCe73IGxeL"
      }
    },
    {
      "cell_type": "code",
      "source": [
        "class Net(nn.Module):\n",
        "  def __init__(self):\n",
        "    super().__init__()\n",
        "    # MNIST veri setindeki her bir resim 28x28 piksel boyutundadır ve bu katman, bu görüntüyü 784 boyutunda bir vektöre dönüştürür.\n",
        "    self.fc1=nn.Linear(28*28,64) #  giriş boyutunu (28x28) piksel çıktı boyutunu (64)\n",
        "    self.fc2=nn.Linear(64,64)\n",
        "    self.fc3=nn.Linear(64,64)\n",
        "    self.fc4=nn.Linear(64,10) #  son olarak 10 (MNIST veri setindeki sınıf sayısı) olarak belirle\n",
        "    # MNIST veri setindeki rakamların 10 farklı sınıfı vardır\n",
        "  def forward(self,x):\n",
        "    x=F.relu(self.fc1(x))\n",
        "    x=F.relu(self.fc2(x))\n",
        "    x=F.relu(self.fc3(x))\n",
        "    x=self.fc4(x)\n",
        "    return F.log_softmax(x,dim=1) # en son katmanda çıktı olarak log-olasılık dağılımı elde edildi\n",
        "\n",
        "    return x\n",
        "# Model SUM\n",
        "net=Net() # modeli oluştur\n",
        "print(net)\n",
        "\n",
        "# optimizer\n",
        "import torch.optim as optim\n",
        "optimizer=optim.Adam(net.parameters(),lr=0.001) # Genellikle, 0.001 gibi orta düzey bir öğrenme oranı, birçok derin öğrenme modeli için iyi bir başlangıç noktası olabilir.\n",
        "EPOCH= 5 # EPOCH sayısı, ne kadar süreyle modelin eğitileceğini belirtir.\n",
        "\n",
        "for epoch in range(EPOCH):\n",
        "  for data in traindata:\n",
        "    X,y=data\n",
        "    net.zero_grad() # model gradyanlarını sıfırla\n",
        "    output=net(X.view(-1,28*28)) # Veriyi modele besle\n",
        "    loss=F.nll_loss(output,y) # Hesaplanan çıktı ve gerçek etiket arasındaki kayıp\n",
        "    loss.backward()\n",
        "    optimizer.step() # Geriye doğru gradyanları hesaplar ve parametreleri günceller\n",
        "  print(\"Loss:\",loss) # Her epoch sonunda o anki kaybı ekrana yazdır"
      ],
      "metadata": {
        "colab": {
          "base_uri": "https://localhost:8080/"
        },
        "id": "PTpcJhIEGldS",
        "outputId": "35d7e5f3-8343-462a-8ea3-1a0997a8f494"
      },
      "execution_count": null,
      "outputs": [
        {
          "output_type": "stream",
          "name": "stdout",
          "text": [
            "Net(\n",
            "  (fc1): Linear(in_features=784, out_features=64, bias=True)\n",
            "  (fc2): Linear(in_features=64, out_features=64, bias=True)\n",
            "  (fc3): Linear(in_features=64, out_features=64, bias=True)\n",
            "  (fc4): Linear(in_features=64, out_features=10, bias=True)\n",
            ")\n",
            "Loss: tensor(0.0058, grad_fn=<NllLossBackward0>)\n",
            "Loss: tensor(0.0060, grad_fn=<NllLossBackward0>)\n",
            "Loss: tensor(0.0006, grad_fn=<NllLossBackward0>)\n",
            "Loss: tensor(0.0416, grad_fn=<NllLossBackward0>)\n",
            "Loss: tensor(0.0014, grad_fn=<NllLossBackward0>)\n"
          ]
        }
      ]
    },
    {
      "cell_type": "markdown",
      "source": [
        "Burada train üzerinde eğitilen sinir ağı modelinin doğruluğunu hesaplamak için bir test işlemi gerçekleştiriyorum."
      ],
      "metadata": {
        "id": "ZureA4x3Oxs9"
      }
    },
    {
      "cell_type": "code",
      "source": [
        "correct=0 # doğru tahmin edilen örneklerin sayısı\n",
        "total=0 # toplam tahmin edilen örneklerin sayısı\n",
        "with torch.no_grad(): # gradyan hesaplarının devre dışı bırakılması\n",
        "  for data in traindata: # her bir grup verisi için:\n",
        "    X,y=data\n",
        "    output=net(X.view(-1,784)) # veriyi modele besle ve çıktı al\n",
        "    for idx,i in enumerate(output):\n",
        "      if(torch.argmax(i)==y[idx]): # gerçek etiketle karşılaştır\n",
        "        correct+=1\n",
        "      total+=1\n",
        "print(\"Accuracy: \",round(correct/total,3)) # Doğru tahmin edilen örnek sayısı toplam örnek sayısına bölünerek hesaplanır"
      ],
      "metadata": {
        "colab": {
          "base_uri": "https://localhost:8080/"
        },
        "id": "lZs5i8b6Owpa",
        "outputId": "ffa55b18-11fd-4ffe-87e2-aaeeeb6cf4c8"
      },
      "execution_count": null,
      "outputs": [
        {
          "output_type": "stream",
          "name": "stdout",
          "text": [
            "Accuracy:  0.985\n"
          ]
        }
      ]
    },
    {
      "cell_type": "code",
      "source": [
        "plt.imshow(X[0].view(28,28)) # tensör formatındaki bir görüntüyü matplotlib kütüphanesini kullanarak görselleştirmek\n",
        "plt.show()"
      ],
      "metadata": {
        "colab": {
          "base_uri": "https://localhost:8080/",
          "height": 430
        },
        "id": "FxXiwbIMPjBc",
        "outputId": "b3a1a111-dd75-4077-db07-6bac6e3a2635"
      },
      "execution_count": null,
      "outputs": [
        {
          "output_type": "display_data",
          "data": {
            "text/plain": [
              "<Figure size 640x480 with 1 Axes>"
            ],
            "image/png": "[encoded data removed]"
          },
          "metadata": {}
        }
      ]
    },
    {
      "cell_type": "markdown",
      "source": [
        "'X[0]' ile veri setinden ilk örneği seçiyoruz.\n",
        "'.view(-1,784)' ile bu seçilen örneği 28x28 boyutundan tek bir satırda 784 öğe içeren bir tensöre dönüştürüyoruz.\n",
        "'net(X[0].view(-1,784))' ile modelimize bu dönüştürülmüş veriyi veriyoruz ve çıktıyı elde ediyoruz.\n",
        "'torch.argmax()' fonksiyonu, çıktı tensöründeki en büyük değerin indeksini döndürür. Bu indeks, sınıf tahminini temsil eder."
      ],
      "metadata": {
        "id": "6Wl9QyKGP7vP"
      }
    },
    {
      "cell_type": "code",
      "source": [
        "print(torch.argmax(net(X[0].view(-1,784))))"
      ],
      "metadata": {
        "colab": {
          "base_uri": "https://localhost:8080/"
        },
        "id": "o62Qs3z3P0Ww",
        "outputId": "1da5f06f-5f97-45b1-e0ba-41e00e54e9ab"
      },
      "execution_count": null,
      "outputs": [
        {
          "output_type": "stream",
          "name": "stdout",
          "text": [
            "tensor(6)\n"
          ]
        }
      ]
    },
    {
      "cell_type": "markdown",
      "source": [
        "***SONUÇ:***\n",
        "\n",
        "**MNIST veri seti, train ve test olarak iki ayrı veri setine ayrılıyor. Bu veri setleri, tensörlere dönüştürülerek ve belirli bir boyutta yeniden şekillendirilerek işleniyor.Tam bağlantılı katmanlar içeren bir sinir ağı modeli tasarlanıyor. Model, veri yükleyicileri ve optimizasyon algoritmaları kullanılarak eğitiliyor ve her bir epoch (eğitim dönemi) sonunda eğitim kaybı (loss) hesaplanıyor.Eğitilen model test ediliyor ve doğruluk oranı hesaplanıyor. İlgili bir görüntü, modelin sınıf tahminini görmek için kullanılıyor. Model, verilen bir görüntünün hangi sınıfa ait olduğunu tahmin ediyor.**"
      ],
      "metadata": {
        "id": "GDxTzhRtUtAE"
      }
    }
  ]
}